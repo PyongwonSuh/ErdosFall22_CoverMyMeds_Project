{
 "cells": [
  {
   "cell_type": "markdown",
   "id": "2f1becfc",
   "metadata": {},
   "source": [
    "# Model for formulary status prediction"
   ]
  },
  {
   "cell_type": "markdown",
   "id": "ad3d5d0b",
   "metadata": {},
   "source": [
    "This problems is classification problem. We will test the following models.\n",
    "- Logistic Regression\n",
    "- k-Nearest Neighbor classifier\n",
    "- Support Vector Machine\n",
    "- Random Forest classifier\n",
    "- XGBoost classifier"
   ]
  },
  {
   "cell_type": "code",
   "execution_count": 1,
   "id": "1f257567",
   "metadata": {},
   "outputs": [],
   "source": [
    "import numpy as np\n",
    "import pandas as pd\n",
    "from sklearn.model_selection import train_test_split\n",
    "import matplotlib.pyplot as plt\n",
    "import seaborn as sns"
   ]
  },
  {
   "cell_type": "code",
   "execution_count": 2,
   "id": "53bd9afb",
   "metadata": {},
   "outputs": [],
   "source": [
    "df = pd.read_csv(\"pharmacy_sample_clean.csv\")"
   ]
  },
  {
   "cell_type": "code",
   "execution_count": 4,
   "id": "b698e480",
   "metadata": {},
   "outputs": [],
   "source": [
    "df_train, df_test = train_test_split(df.copy(), \n",
    "                                            shuffle=True,\n",
    "                                            random_state=614,\n",
    "                                            test_size=.2)"
   ]
  },
  {
   "cell_type": "code",
   "execution_count": 5,
   "id": "57b2616c",
   "metadata": {},
   "outputs": [],
   "source": [
    "features = ['month', 'diagnosis_broad', 'diagnosis_specific', 'drug_type', 'drug_name', 'bin', 'pcngroup']"
   ]
  },
  {
   "cell_type": "markdown",
   "id": "77a70920",
   "metadata": {},
   "source": [
    "# One-hot encoding"
   ]
  },
  {
   "cell_type": "code",
   "execution_count": 6,
   "id": "7e9bd148",
   "metadata": {},
   "outputs": [],
   "source": [
    "import sklearn.preprocessing\n",
    "from sklearn.pipeline import Pipeline\n",
    "from sklearn.preprocessing import OneHotEncoder\n",
    "from sklearn.compose import ColumnTransformer"
   ]
  },
  {
   "cell_type": "code",
   "execution_count": 7,
   "id": "032ab7ea",
   "metadata": {},
   "outputs": [],
   "source": [
    "onehot_pipeline = Pipeline([\n",
    "        (\"onehot\", sklearn.preprocessing.OneHotEncoder(handle_unknown = \"ignore\"))\n",
    "    ])\n",
    "\n",
    "preprocessing_pipeline = ColumnTransformer([\n",
    "        (\"preprocessor_column\", onehot_pipeline, features)\n",
    "    ])"
   ]
  },
  {
   "cell_type": "markdown",
   "id": "a7a43c77",
   "metadata": {},
   "source": [
    "# Logistic Regression"
   ]
  },
  {
   "cell_type": "code",
   "execution_count": 8,
   "id": "0b131891",
   "metadata": {},
   "outputs": [],
   "source": [
    "from sklearn.model_selection import GridSearchCV"
   ]
  },
  {
   "cell_type": "code",
   "execution_count": 9,
   "id": "afa16e16",
   "metadata": {},
   "outputs": [],
   "source": [
    "from sklearn.linear_model import LogisticRegression"
   ]
  },
  {
   "cell_type": "code",
   "execution_count": 10,
   "id": "439f0b91",
   "metadata": {},
   "outputs": [],
   "source": [
    "logit_pipe = Pipeline([\n",
    "    (\"pre\", preprocessing_pipeline),\n",
    "    (\"logit\", LogisticRegression())\n",
    "])\n"
   ]
  },
  {
   "cell_type": "code",
   "execution_count": 20,
   "id": "593a4fd9",
   "metadata": {},
   "outputs": [],
   "source": [
    "logit_params = [1, 5, 10, 15, 20, 25]\n",
    "\n",
    "logit_param_grid = [\n",
    "    {\"logit__penalty\": [\"l1\", \"l2\"],\n",
    "    \"logit__C\": logit_params}\n",
    "]"
   ]
  },
  {
   "cell_type": "code",
   "execution_count": 27,
   "id": "4e3bb022",
   "metadata": {},
   "outputs": [],
   "source": [
    "logit_gridcv = GridSearchCV(\n",
    "        estimator = logit_pipe,\n",
    "        param_grid = logit_param_grid,\n",
    "        scoring = \"accuracy\",\n",
    "    n_jobs = 4\n",
    "    )"
   ]
  },
  {
   "cell_type": "code",
   "execution_count": 28,
   "id": "95cc4082",
   "metadata": {},
   "outputs": [
    {
     "name": "stderr",
     "output_type": "stream",
     "text": [
      "C:\\Users\\riene\\anaconda3\\lib\\site-packages\\sklearn\\model_selection\\_validation.py:372: FitFailedWarning: \n",
      "30 fits failed out of a total of 60.\n",
      "The score on these train-test partitions for these parameters will be set to nan.\n",
      "If these failures are not expected, you can try to debug them by setting error_score='raise'.\n",
      "\n",
      "Below are more details about the failures:\n",
      "--------------------------------------------------------------------------------\n",
      "30 fits failed with the following error:\n",
      "Traceback (most recent call last):\n",
      "  File \"C:\\Users\\riene\\anaconda3\\lib\\site-packages\\sklearn\\model_selection\\_validation.py\", line 680, in _fit_and_score\n",
      "    estimator.fit(X_train, y_train, **fit_params)\n",
      "  File \"C:\\Users\\riene\\anaconda3\\lib\\site-packages\\sklearn\\pipeline.py\", line 394, in fit\n",
      "    self._final_estimator.fit(Xt, y, **fit_params_last_step)\n",
      "  File \"C:\\Users\\riene\\anaconda3\\lib\\site-packages\\sklearn\\linear_model\\_logistic.py\", line 1461, in fit\n",
      "    solver = _check_solver(self.solver, self.penalty, self.dual)\n",
      "  File \"C:\\Users\\riene\\anaconda3\\lib\\site-packages\\sklearn\\linear_model\\_logistic.py\", line 447, in _check_solver\n",
      "    raise ValueError(\n",
      "ValueError: Solver lbfgs supports only 'l2' or 'none' penalties, got l1 penalty.\n",
      "\n",
      "  warnings.warn(some_fits_failed_message, FitFailedWarning)\n",
      "C:\\Users\\riene\\anaconda3\\lib\\site-packages\\sklearn\\model_selection\\_search.py:969: UserWarning: One or more of the test scores are non-finite: [     nan 0.92475       nan 0.923375      nan 0.922625      nan 0.922125\n",
      "      nan 0.922         nan 0.922125]\n",
      "  warnings.warn(\n"
     ]
    },
    {
     "data": {
      "text/plain": [
       "GridSearchCV(estimator=Pipeline(steps=[('pre',\n",
       "                                        ColumnTransformer(transformers=[('preprocessor_column',\n",
       "                                                                         Pipeline(steps=[('onehot',\n",
       "                                                                                          OneHotEncoder(handle_unknown='ignore'))]),\n",
       "                                                                         ['month',\n",
       "                                                                          'diagnosis_broad',\n",
       "                                                                          'diagnosis_specific',\n",
       "                                                                          'drug_type',\n",
       "                                                                          'drug_name',\n",
       "                                                                          'bin',\n",
       "                                                                          'pcngroup'])])),\n",
       "                                       ('logit', LogisticRegression())]),\n",
       "             n_jobs=4,\n",
       "             param_grid=[{'logit__C': [1, 5, 10, 15, 20, 25],\n",
       "                          'logit__penalty': ['l1', 'l2']}],\n",
       "             scoring='accuracy')"
      ]
     },
     "execution_count": 28,
     "metadata": {},
     "output_type": "execute_result"
    }
   ],
   "source": [
    "\n",
    "logit_gridcv.fit(\n",
    "    X = df_train[features],\n",
    "    y = df_train.rejected\n",
    ")"
   ]
  },
  {
   "cell_type": "markdown",
   "id": "ae615dc6",
   "metadata": {},
   "source": [
    "# KNN classifier"
   ]
  },
  {
   "cell_type": "code",
   "execution_count": 29,
   "id": "8d2ca223",
   "metadata": {},
   "outputs": [],
   "source": [
    "from sklearn.neighbors import KNeighborsClassifier"
   ]
  },
  {
   "cell_type": "code",
   "execution_count": 31,
   "id": "5f1877b8",
   "metadata": {},
   "outputs": [],
   "source": [
    "knn_pipe = Pipeline([\n",
    "    (\"preprocessor\", preprocessing_pipeline),\n",
    "    (\"knn\", KNeighborsClassifier())\n",
    "])"
   ]
  },
  {
   "cell_type": "code",
   "execution_count": 40,
   "id": "66c61117",
   "metadata": {},
   "outputs": [],
   "source": [
    "neighbors = list(range(1, 40))\n",
    "\n",
    "knn_param_grid = [\n",
    "    {\"knn__n_neighbors\": neighbors,\n",
    "    \"knn__weights\": [\"uniform\", \"distance\"],\n",
    "    \"knn__metric\": [\"euclidean\", \"manhattan\"]}\n",
    "]"
   ]
  },
  {
   "cell_type": "code",
   "execution_count": 41,
   "id": "ef7a3830",
   "metadata": {},
   "outputs": [],
   "source": [
    "knn_gridcv = GridSearchCV(\n",
    "        estimator = knn_pipe,\n",
    "        param_grid = knn_param_grid,\n",
    "        scoring = \"accuracy\",\n",
    "        cv = 5,\n",
    "        n_jobs = 4\n",
    "    )"
   ]
  },
  {
   "cell_type": "code",
   "execution_count": 42,
   "id": "733872e6",
   "metadata": {},
   "outputs": [
    {
     "data": {
      "text/plain": [
       "GridSearchCV(cv=5,\n",
       "             estimator=Pipeline(steps=[('preprocessor',\n",
       "                                        ColumnTransformer(transformers=[('preprocessor_column',\n",
       "                                                                         Pipeline(steps=[('onehot',\n",
       "                                                                                          OneHotEncoder(handle_unknown='ignore'))]),\n",
       "                                                                         ['month',\n",
       "                                                                          'diagnosis_broad',\n",
       "                                                                          'diagnosis_specific',\n",
       "                                                                          'drug_type',\n",
       "                                                                          'drug_name',\n",
       "                                                                          'bin',\n",
       "                                                                          'pcngroup'])])),\n",
       "                                       ('knn', KNeighborsClassifier())]),\n",
       "             n_jobs=4,\n",
       "             param_grid=[{'knn__metric': ['euclidean', 'manhattan'],\n",
       "                          'knn__n_neighbors': [1, 2, 3, 4, 5, 6, 7, 8, 9, 10,\n",
       "                                               11, 12, 13, 14, 15, 16, 17, 18,\n",
       "                                               19, 20, 21, 22, 23, 24, 25, 26,\n",
       "                                               27, 28, 29, 30, ...],\n",
       "                          'knn__weights': ['uniform', 'distance']}],\n",
       "             scoring='accuracy')"
      ]
     },
     "execution_count": 42,
     "metadata": {},
     "output_type": "execute_result"
    }
   ],
   "source": [
    "knn_gridcv.fit(\n",
    "    X = df_train[features],\n",
    "    y = df_train.rejected\n",
    ")"
   ]
  },
  {
   "cell_type": "markdown",
   "id": "bf39c9a6",
   "metadata": {},
   "source": [
    "# Support Vector Machine"
   ]
  },
  {
   "cell_type": "code",
   "execution_count": 46,
   "id": "188a9058",
   "metadata": {},
   "outputs": [],
   "source": [
    "from sklearn.svm import SVC"
   ]
  },
  {
   "cell_type": "code",
   "execution_count": 47,
   "id": "d8243ff2",
   "metadata": {},
   "outputs": [],
   "source": [
    "svm_pipe = Pipeline([\n",
    "    (\"preprocessor\", preprocessing_pipeline),\n",
    "    (\"svc\", SVC())\n",
    "])\n"
   ]
  },
  {
   "cell_type": "code",
   "execution_count": 51,
   "id": "b0c4ba9d",
   "metadata": {},
   "outputs": [],
   "source": [
    "svm_params = [1, 5, 10, 15, 20, 25]\n",
    "\n",
    "svm_param_grid = [\n",
    "    {\"svc__kernel\": [\"linear\", \"rbf\"],\n",
    "    \"svc__C\": svm_params}\n",
    "]"
   ]
  },
  {
   "cell_type": "code",
   "execution_count": 52,
   "id": "abd5fbb7",
   "metadata": {},
   "outputs": [],
   "source": [
    "svm_gridcv = GridSearchCV(\n",
    "        estimator = svm_pipe,\n",
    "        param_grid = svm_param_grid,\n",
    "        scoring = \"accuracy\",\n",
    "        cv = 5,\n",
    "        n_jobs = 4\n",
    "    )"
   ]
  },
  {
   "cell_type": "code",
   "execution_count": 53,
   "id": "2139cf0c",
   "metadata": {},
   "outputs": [
    {
     "data": {
      "text/plain": [
       "GridSearchCV(cv=5,\n",
       "             estimator=Pipeline(steps=[('preprocessor',\n",
       "                                        ColumnTransformer(transformers=[('preprocessor_column',\n",
       "                                                                         Pipeline(steps=[('onehot',\n",
       "                                                                                          OneHotEncoder(handle_unknown='ignore'))]),\n",
       "                                                                         ['month',\n",
       "                                                                          'diagnosis_broad',\n",
       "                                                                          'diagnosis_specific',\n",
       "                                                                          'drug_type',\n",
       "                                                                          'drug_name',\n",
       "                                                                          'bin',\n",
       "                                                                          'pcngroup'])])),\n",
       "                                       ('svc', SVC())]),\n",
       "             n_jobs=4,\n",
       "             param_grid=[{'svc__C': [1, 5, 10, 15, 20, 25],\n",
       "                          'svc__kernel': ['linear', 'rbf']}],\n",
       "             scoring='accuracy')"
      ]
     },
     "execution_count": 53,
     "metadata": {},
     "output_type": "execute_result"
    }
   ],
   "source": [
    "svm_gridcv.fit(\n",
    "    X = df_train[features],\n",
    "    y = df_train.rejected\n",
    ")"
   ]
  },
  {
   "cell_type": "markdown",
   "id": "bedbfca0",
   "metadata": {},
   "source": [
    "# Random forest classifier"
   ]
  },
  {
   "cell_type": "code",
   "execution_count": 54,
   "id": "fc0887ae",
   "metadata": {},
   "outputs": [],
   "source": [
    "from sklearn.ensemble import RandomForestClassifier"
   ]
  },
  {
   "cell_type": "code",
   "execution_count": 55,
   "id": "602efcec",
   "metadata": {},
   "outputs": [],
   "source": [
    "rf_pipe = Pipeline([\n",
    "    (\"pre\", preprocessing_pipeline),\n",
    "    (\"rf\", RandomForestClassifier(n_estimators = 1000))\n",
    "])"
   ]
  },
  {
   "cell_type": "code",
   "execution_count": 56,
   "id": "3dcaf01a",
   "metadata": {},
   "outputs": [],
   "source": [
    "param_range = [1, 5, 10, 15, 20, 25]\n",
    "\n",
    "rf_param_grid = {\n",
    "    \"rf__min_samples_leaf\": param_range,\n",
    "}"
   ]
  },
  {
   "cell_type": "code",
   "execution_count": 60,
   "id": "62c8a35f",
   "metadata": {},
   "outputs": [],
   "source": [
    "rf_gridcv = GridSearchCV(\n",
    "        estimator = rf_pipe,\n",
    "        param_grid = rf_param_grid,\n",
    "        scoring = \"accuracy\",\n",
    "        cv = 5,\n",
    "        n_jobs = 4\n",
    "    )"
   ]
  },
  {
   "cell_type": "code",
   "execution_count": 61,
   "id": "3b025055",
   "metadata": {},
   "outputs": [
    {
     "data": {
      "text/plain": [
       "GridSearchCV(cv=5,\n",
       "             estimator=Pipeline(steps=[('pre',\n",
       "                                        ColumnTransformer(transformers=[('preprocessor_column',\n",
       "                                                                         Pipeline(steps=[('onehot',\n",
       "                                                                                          OneHotEncoder(handle_unknown='ignore'))]),\n",
       "                                                                         ['month',\n",
       "                                                                          'diagnosis_broad',\n",
       "                                                                          'diagnosis_specific',\n",
       "                                                                          'drug_type',\n",
       "                                                                          'drug_name',\n",
       "                                                                          'bin',\n",
       "                                                                          'pcngroup'])])),\n",
       "                                       ('rf',\n",
       "                                        RandomForestClassifier(n_estimators=1000))]),\n",
       "             n_jobs=4,\n",
       "             param_grid={'rf__min_samples_leaf': [1, 5, 10, 15, 20, 25]},\n",
       "             scoring='accuracy')"
      ]
     },
     "execution_count": 61,
     "metadata": {},
     "output_type": "execute_result"
    }
   ],
   "source": [
    "rf_gridcv.fit(\n",
    "    X = df_train[features],\n",
    "    y = df_train.rejected\n",
    ")\n"
   ]
  },
  {
   "cell_type": "code",
   "execution_count": 70,
   "id": "f282f61e",
   "metadata": {},
   "outputs": [
    {
     "data": {
      "text/plain": [
       "0.9258750000000001"
      ]
     },
     "execution_count": 70,
     "metadata": {},
     "output_type": "execute_result"
    }
   ],
   "source": [
    "rf_gridcv.best_score_"
   ]
  },
  {
   "cell_type": "code",
   "execution_count": 71,
   "id": "3363442a",
   "metadata": {},
   "outputs": [
    {
     "data": {
      "text/plain": [
       "array([False, False, False, ..., False, False, False])"
      ]
     },
     "execution_count": 71,
     "metadata": {},
     "output_type": "execute_result"
    }
   ],
   "source": [
    "rf_gridcv.predict(df_test[features])"
   ]
  },
  {
   "cell_type": "code",
   "execution_count": 72,
   "id": "54e88fe3",
   "metadata": {},
   "outputs": [],
   "source": [
    "from sklearn.metrics import accuracy_score"
   ]
  },
  {
   "cell_type": "code",
   "execution_count": 73,
   "id": "70a696dc",
   "metadata": {},
   "outputs": [
    {
     "data": {
      "text/plain": [
       "0.9225"
      ]
     },
     "execution_count": 73,
     "metadata": {},
     "output_type": "execute_result"
    }
   ],
   "source": [
    "accuracy_score(rf_gridcv.predict(df_test[features]), df_test.rejected)"
   ]
  },
  {
   "cell_type": "markdown",
   "id": "aaff1597",
   "metadata": {},
   "source": [
    "# XGBoost classifier"
   ]
  },
  {
   "cell_type": "code",
   "execution_count": 62,
   "id": "7ac79c65",
   "metadata": {},
   "outputs": [],
   "source": [
    "import xgboost"
   ]
  },
  {
   "cell_type": "code",
   "execution_count": 63,
   "id": "d7867a6d",
   "metadata": {},
   "outputs": [],
   "source": [
    "xgb_pipe = Pipeline([\n",
    "    (\"pre\", preprocessing_pipeline),\n",
    "    (\"xgb\", xgboost.XGBClassifier())\n",
    "])"
   ]
  },
  {
   "cell_type": "code",
   "execution_count": 75,
   "id": "9fb4651f",
   "metadata": {},
   "outputs": [],
   "source": [
    "param_range = [1, 5, 10, 15, 20, 25]\n",
    "param_range_fl = [0.1, 0,5, 1]\n",
    "n_estimators = [100, 500, 1000]\n",
    "learning_rates = [0.1, 0.5, 1]\n",
    "\n",
    "xgb_param_grid = [\n",
    "    {\"xgb__learning_rate\": learning_rates,\n",
    "    \"xgb__max_depth\": param_range,\n",
    "    \"xgb__subsample\": param_range_fl,\n",
    "    \"xgb__n_estimators\": n_estimators}\n",
    "]"
   ]
  },
  {
   "cell_type": "code",
   "execution_count": 76,
   "id": "22dfde49",
   "metadata": {},
   "outputs": [],
   "source": [
    "xgb_gridcv = GridSearchCV(\n",
    "        estimator = xgb_pipe,\n",
    "        param_grid = xgb_param_grid,\n",
    "        scoring = \"accuracy\",\n",
    "        cv = 5,\n",
    "        n_jobs = 4\n",
    "    )"
   ]
  },
  {
   "cell_type": "code",
   "execution_count": 77,
   "id": "a38a8ac2",
   "metadata": {},
   "outputs": [
    {
     "name": "stderr",
     "output_type": "stream",
     "text": [
      "C:\\Users\\riene\\anaconda3\\lib\\site-packages\\sklearn\\model_selection\\_validation.py:372: FitFailedWarning: \n",
      "270 fits failed out of a total of 1080.\n",
      "The score on these train-test partitions for these parameters will be set to nan.\n",
      "If these failures are not expected, you can try to debug them by setting error_score='raise'.\n",
      "\n",
      "Below are more details about the failures:\n",
      "--------------------------------------------------------------------------------\n",
      "270 fits failed with the following error:\n",
      "Traceback (most recent call last):\n",
      "  File \"C:\\Users\\riene\\anaconda3\\lib\\site-packages\\sklearn\\model_selection\\_validation.py\", line 680, in _fit_and_score\n",
      "    estimator.fit(X_train, y_train, **fit_params)\n",
      "  File \"C:\\Users\\riene\\anaconda3\\lib\\site-packages\\sklearn\\pipeline.py\", line 394, in fit\n",
      "    self._final_estimator.fit(Xt, y, **fit_params_last_step)\n",
      "  File \"C:\\Users\\riene\\anaconda3\\lib\\site-packages\\xgboost\\core.py\", line 620, in inner_f\n",
      "    return func(**kwargs)\n",
      "  File \"C:\\Users\\riene\\anaconda3\\lib\\site-packages\\xgboost\\sklearn.py\", line 1516, in fit\n",
      "    self._Booster = train(\n",
      "  File \"C:\\Users\\riene\\anaconda3\\lib\\site-packages\\xgboost\\core.py\", line 620, in inner_f\n",
      "    return func(**kwargs)\n",
      "  File \"C:\\Users\\riene\\anaconda3\\lib\\site-packages\\xgboost\\training.py\", line 185, in train\n",
      "    bst.update(dtrain, i, obj)\n",
      "  File \"C:\\Users\\riene\\anaconda3\\lib\\site-packages\\xgboost\\core.py\", line 1918, in update\n",
      "    _check_call(_LIB.XGBoosterUpdateOneIter(self.handle,\n",
      "  File \"C:\\Users\\riene\\anaconda3\\lib\\site-packages\\xgboost\\core.py\", line 279, in _check_call\n",
      "    raise XGBoostError(py_str(_LIB.XGBGetLastError()))\n",
      "xgboost.core.XGBoostError: value 5 for Parameter subsample exceed bound [0,1]\n",
      "subsample: Row subsample ratio of training instance.\n",
      "\n",
      "  warnings.warn(some_fits_failed_message, FitFailedWarning)\n",
      "C:\\Users\\riene\\anaconda3\\lib\\site-packages\\sklearn\\model_selection\\_search.py:969: UserWarning: One or more of the test scores are non-finite: [0.925875 0.925875      nan 0.925875 0.923125 0.925875      nan 0.925875\n",
      " 0.922875 0.925875      nan 0.92575  0.925375 0.925875      nan 0.925875\n",
      " 0.919375 0.925875      nan 0.9215   0.919125 0.925875      nan 0.92\n",
      " 0.92475  0.925875      nan 0.92375  0.9195   0.925875      nan 0.918625\n",
      " 0.91625  0.925875      nan 0.917    0.924375 0.925875      nan 0.92375\n",
      " 0.91725  0.925875      nan 0.91575  0.914625 0.925875      nan 0.913375\n",
      " 0.924    0.925875      nan 0.92225  0.91625  0.925875      nan 0.9145\n",
      " 0.914875 0.925875      nan 0.912375 0.924375 0.925875      nan 0.918875\n",
      " 0.916875 0.925875      nan 0.913625 0.916625 0.925875      nan 0.911375\n",
      " 0.91975  0.925875      nan 0.925875 0.918375 0.925875      nan 0.9255\n",
      " 0.915    0.925875      nan 0.9245   0.913875 0.925875      nan 0.9205\n",
      " 0.908    0.925875      nan 0.91425  0.9075   0.925875      nan 0.9125\n",
      " 0.913125 0.925875      nan 0.917125 0.905125 0.925875      nan 0.91\n",
      " 0.904125 0.925875      nan 0.9085   0.9115   0.925875      nan 0.91475\n",
      " 0.90625  0.925875      nan 0.909375 0.901875 0.925875      nan 0.907625\n",
      " 0.91     0.925875      nan 0.91375  0.904125 0.925875      nan 0.909375\n",
      " 0.901375 0.925875      nan 0.9075   0.91     0.925875      nan 0.911625\n",
      " 0.904125 0.925875      nan 0.907125 0.901375 0.925875      nan 0.90625\n",
      " 0.90825  0.925875      nan 0.922625 0.914875 0.925875      nan 0.923125\n",
      " 0.91275  0.925875      nan 0.922375 0.9      0.925875      nan 0.915375\n",
      " 0.89825  0.925875      nan 0.911125 0.892375 0.925875      nan 0.909375\n",
      " 0.89175  0.925875      nan 0.912875 0.888875 0.925875      nan 0.90875\n",
      " 0.887375 0.925875      nan 0.906625 0.8965   0.925875      nan 0.908625\n",
      " 0.89125  0.925875      nan 0.907625 0.894375 0.925875      nan 0.90675\n",
      " 0.8905   0.925875      nan 0.90825  0.8915   0.925875      nan 0.905375\n",
      " 0.8845   0.925875      nan 0.903875 0.8905   0.925875      nan 0.90875\n",
      " 0.8915   0.925875      nan 0.907    0.8845   0.925875      nan 0.905625]\n",
      "  warnings.warn(\n"
     ]
    },
    {
     "data": {
      "text/plain": [
       "GridSearchCV(cv=5,\n",
       "             estimator=Pipeline(steps=[('pre',\n",
       "                                        ColumnTransformer(transformers=[('preprocessor_column',\n",
       "                                                                         Pipeline(steps=[('onehot',\n",
       "                                                                                          OneHotEncoder(handle_unknown='ignore'))]),\n",
       "                                                                         ['month',\n",
       "                                                                          'diagnosis_broad',\n",
       "                                                                          'diagnosis_specific',\n",
       "                                                                          'drug_type',\n",
       "                                                                          'drug_name',\n",
       "                                                                          'bin',\n",
       "                                                                          'pcngroup'])])),\n",
       "                                       ('xgb',\n",
       "                                        XGBClassifier(base_score=None,\n",
       "                                                      booster=None,\n",
       "                                                      callbacks=None,\n",
       "                                                      colsample_bylevel...\n",
       "                                                      max_depth=None,\n",
       "                                                      max_leaves=None,\n",
       "                                                      min_child_weight=None,\n",
       "                                                      missing=nan,\n",
       "                                                      monotone_constraints=None,\n",
       "                                                      n_estimators=100,\n",
       "                                                      n_jobs=None,\n",
       "                                                      num_parallel_tree=None,\n",
       "                                                      predictor=None,\n",
       "                                                      random_state=None, ...))]),\n",
       "             n_jobs=4,\n",
       "             param_grid=[{'xgb__learning_rate': [0.1, 0.5, 1],\n",
       "                          'xgb__max_depth': [1, 5, 10, 15, 20, 25],\n",
       "                          'xgb__n_estimators': [100, 500, 1000],\n",
       "                          'xgb__subsample': [0.1, 0, 5, 1]}],\n",
       "             scoring='accuracy')"
      ]
     },
     "execution_count": 77,
     "metadata": {},
     "output_type": "execute_result"
    }
   ],
   "source": [
    "xgb_gridcv.fit(\n",
    "    X = df_train[features],\n",
    "    y = df_train.rejected\n",
    ")"
   ]
  },
  {
   "cell_type": "markdown",
   "id": "15a0f56b",
   "metadata": {},
   "source": [
    "# Scores"
   ]
  },
  {
   "cell_type": "code",
   "execution_count": 79,
   "id": "1fda68a9",
   "metadata": {},
   "outputs": [],
   "source": [
    "models  = [logit_gridcv, knn_gridcv, svm_gridcv, rf_gridcv, xgb_gridcv]\n",
    "scores = []\n",
    "for model in models:\n",
    "    scores.append(accuracy_score(model.predict(df_test[features]), df_test.rejected))"
   ]
  },
  {
   "cell_type": "code",
   "execution_count": 82,
   "id": "a44ca1a7",
   "metadata": {},
   "outputs": [],
   "source": [
    "df_scores = pd.DataFrame(\n",
    "scores,\n",
    "columns = ['accuracy'],\n",
    "index = [\"Logistic\", \"KNN\", \"SVM\", \"RandomForest\", \"XGBoost\"])"
   ]
  },
  {
   "cell_type": "code",
   "execution_count": 83,
   "id": "1e461258",
   "metadata": {},
   "outputs": [
    {
     "data": {
      "text/html": [
       "<div>\n",
       "<style scoped>\n",
       "    .dataframe tbody tr th:only-of-type {\n",
       "        vertical-align: middle;\n",
       "    }\n",
       "\n",
       "    .dataframe tbody tr th {\n",
       "        vertical-align: top;\n",
       "    }\n",
       "\n",
       "    .dataframe thead th {\n",
       "        text-align: right;\n",
       "    }\n",
       "</style>\n",
       "<table border=\"1\" class=\"dataframe\">\n",
       "  <thead>\n",
       "    <tr style=\"text-align: right;\">\n",
       "      <th></th>\n",
       "      <th>accuracy</th>\n",
       "    </tr>\n",
       "  </thead>\n",
       "  <tbody>\n",
       "    <tr>\n",
       "      <th>Logistic</th>\n",
       "      <td>0.9230</td>\n",
       "    </tr>\n",
       "    <tr>\n",
       "      <th>KNN</th>\n",
       "      <td>0.9220</td>\n",
       "    </tr>\n",
       "    <tr>\n",
       "      <th>SVM</th>\n",
       "      <td>0.9225</td>\n",
       "    </tr>\n",
       "    <tr>\n",
       "      <th>RandomForest</th>\n",
       "      <td>0.9225</td>\n",
       "    </tr>\n",
       "    <tr>\n",
       "      <th>XGBoost</th>\n",
       "      <td>0.9225</td>\n",
       "    </tr>\n",
       "  </tbody>\n",
       "</table>\n",
       "</div>"
      ],
      "text/plain": [
       "              accuracy\n",
       "Logistic        0.9230\n",
       "KNN             0.9220\n",
       "SVM             0.9225\n",
       "RandomForest    0.9225\n",
       "XGBoost         0.9225"
      ]
     },
     "execution_count": 83,
     "metadata": {},
     "output_type": "execute_result"
    }
   ],
   "source": [
    "df_scores"
   ]
  },
  {
   "cell_type": "code",
   "execution_count": 84,
   "id": "9181ef8b",
   "metadata": {},
   "outputs": [
    {
     "data": {
      "text/plain": [
       "<AxesSubplot:ylabel='accuracy'>"
      ]
     },
     "execution_count": 84,
     "metadata": {},
     "output_type": "execute_result"
    },
    {
     "data": {
      "image/png": "[encoded data removed]",
      "text/plain": [
       "<Figure size 432x288 with 1 Axes>"
      ]
     },
     "metadata": {
      "needs_background": "light"
     },
     "output_type": "display_data"
    }
   ],
   "source": [
    "sns.barplot(\n",
    "data = df_scores,\n",
    "y = 'accuracy',\n",
    "x = df_scores.index)"
   ]
  },
  {
   "cell_type": "markdown",
   "id": "0ce9beb9",
   "metadata": {},
   "source": [
    "We observe that there are no significant differences between models."
   ]
  }
 ],
 "metadata": {
  "kernelspec": {
   "display_name": "Python 3 (ipykernel)",
   "language": "python",
   "name": "python3"
  },
  "language_info": {
   "codemirror_mode": {
    "name": "ipython",
    "version": 3
   },
   "file_extension": ".py",
   "mimetype": "text/x-python",
   "name": "python",
   "nbconvert_exporter": "python",
   "pygments_lexer": "ipython3",
   "version": "3.9.12"
  }
 },
 "nbformat": 4,
 "nbformat_minor": 5
}
