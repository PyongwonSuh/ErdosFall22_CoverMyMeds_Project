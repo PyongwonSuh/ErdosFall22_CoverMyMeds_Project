{
 "cells": [
  {
   "cell_type": "markdown",
   "id": "ab2da56a",
   "metadata": {},
   "source": [
    "# Model selection for patient payments"
   ]
  },
  {
   "cell_type": "markdown",
   "id": "a55cfecf",
   "metadata": {},
   "source": [
    "This notebook aims to determine an appropriate model for the copayment prediction."
   ]
  },
  {
   "cell_type": "code",
   "execution_count": 1,
   "id": "dc1741be",
   "metadata": {},
   "outputs": [],
   "source": [
    "import numpy as np\n",
    "import pandas as pd\n",
    "from sklearn.model_selection import train_test_split\n",
    "import matplotlib.pyplot as plt\n",
    "import seaborn as sns"
   ]
  },
  {
   "cell_type": "markdown",
   "id": "eea3cb3a",
   "metadata": {},
   "source": [
    "Since the purpose of this notebook is get a rough understanding on performace of various models, we will not use whole data. Rather, we will use a randomly chosen subset of whole observations of size 10000, which we will save to `pharmacy_sample.csv`."
   ]
  },
  {
   "cell_type": "code",
   "execution_count": 2,
   "id": "8c660670",
   "metadata": {},
   "outputs": [],
   "source": [
    "# df.sample(10000).to_csv(\"pharmacy_sample.csv\")"
   ]
  },
  {
   "cell_type": "code",
   "execution_count": 3,
   "id": "d435c520",
   "metadata": {},
   "outputs": [],
   "source": [
    "df = pd.read_csv(\"pharmacy_sample.csv\")"
   ]
  },
  {
   "cell_type": "markdown",
   "id": "18dec2b2",
   "metadata": {},
   "source": [
    "As the rejected claims have zero copayments, we drop the rejected claims."
   ]
  },
  {
   "cell_type": "code",
   "execution_count": 4,
   "id": "421fe95e",
   "metadata": {},
   "outputs": [],
   "source": [
    "df = df.loc[df.rejected == False]"
   ]
  },
  {
   "cell_type": "markdown",
   "id": "b07676b1",
   "metadata": {},
   "source": [
    "We observed in EDA that copayments tend to be higher at the beginning of the year. To reflect this, we create a dummy column, `month`, which assigns 1 in January and 0 in the others."
   ]
  },
  {
   "cell_type": "code",
   "execution_count": 5,
   "id": "e0b09e4b",
   "metadata": {},
   "outputs": [],
   "source": [
    "df = df.assign(month = pd.DatetimeIndex(df[\"tx_date\"]).month)"
   ]
  },
  {
   "cell_type": "code",
   "execution_count": 6,
   "id": "ab5c10f9",
   "metadata": {},
   "outputs": [],
   "source": [
    "df.loc[df.month == 1 ,'month'] = 1\n",
    "df.loc[df.month != 1, 'month'] = 0"
   ]
  },
  {
   "cell_type": "markdown",
   "id": "dbcc2f9e",
   "metadata": {},
   "source": [
    "As `patient_pay` valeus are highly concentrated in around 0, we apply log function to it."
   ]
  },
  {
   "cell_type": "code",
   "execution_count": 7,
   "id": "74ea8460",
   "metadata": {},
   "outputs": [],
   "source": [
    "df =df.assign(log_patient_pay = np.log(df['patient_pay']))"
   ]
  },
  {
   "cell_type": "markdown",
   "id": "0340100c",
   "metadata": {},
   "source": [
    "We split the `drug` into `drug_type` and `drug_name`. Also, split `diagonsis` into `diagnosis_broad` and `diagnosis_specific`."
   ]
  },
  {
   "cell_type": "code",
   "execution_count": 8,
   "id": "1a8feaa8",
   "metadata": {},
   "outputs": [],
   "source": [
    "df[[\"drug_type\",\"drug_name\"]] =df['drug'].str.split(\" \",expand=True)"
   ]
  },
  {
   "cell_type": "code",
   "execution_count": 9,
   "id": "e5f8e3c1",
   "metadata": {},
   "outputs": [],
   "source": [
    "df[[\"diagnosis_broad\",\"diagnosis_specific\"]] =df['diagnosis'].str.split(\".\",expand=True)"
   ]
  },
  {
   "cell_type": "markdown",
   "id": "b73244f6",
   "metadata": {},
   "source": [
    "We observed that there is a one-to-one correspondence between `pcn` and `group`. Also, if both `pcn` and `group` are `NaN`, its bin is always 571569. Hece we create a column `pcngroup` which encodes `pcn` and `group`."
   ]
  },
  {
   "cell_type": "code",
   "execution_count": 10,
   "id": "e74fa7bc",
   "metadata": {},
   "outputs": [],
   "source": [
    "df = df.assign(pcngroup = df.group)"
   ]
  },
  {
   "cell_type": "code",
   "execution_count": 11,
   "id": "a6b2628e",
   "metadata": {},
   "outputs": [],
   "source": [
    "df['pcngroup'].fillna(df.pcn, inplace = True)"
   ]
  },
  {
   "cell_type": "code",
   "execution_count": 12,
   "id": "1a592891",
   "metadata": {},
   "outputs": [],
   "source": [
    "df['pcngroup'].fillna(df.group, inplace = True)\n",
    "df.loc[df.pcngroup == 571569] = '571569'"
   ]
  },
  {
   "cell_type": "markdown",
   "id": "c346aa95",
   "metadata": {},
   "source": [
    "Train test split."
   ]
  },
  {
   "cell_type": "code",
   "execution_count": 13,
   "id": "cca85bee",
   "metadata": {},
   "outputs": [],
   "source": [
    "df_train, df_test = train_test_split(df.copy(), \n",
    "                                            shuffle=True,\n",
    "                                            random_state=614,\n",
    "                                            test_size=.2)"
   ]
  },
  {
   "cell_type": "markdown",
   "id": "aca4e3c8",
   "metadata": {},
   "source": [
    "We will compare models with respect to various metrics:\n",
    "- mean_squred_error\n",
    "- r2_score\n",
    "- mean_absolute_percentage_error\n",
    "- mean_absolute_error"
   ]
  },
  {
   "cell_type": "code",
   "execution_count": 14,
   "id": "f9aa956a",
   "metadata": {},
   "outputs": [],
   "source": [
    "from sklearn.metrics import mean_squared_error as mse\n",
    "from sklearn.metrics import r2_score as r2\n",
    "from sklearn.metrics import mean_absolute_error as mae\n",
    "from sklearn.metrics import mean_absolute_percentage_error as mape"
   ]
  },
  {
   "cell_type": "code",
   "execution_count": 15,
   "id": "2157fddc",
   "metadata": {},
   "outputs": [],
   "source": [
    "metrics = [mse, r2, mae, mape]"
   ]
  },
  {
   "cell_type": "markdown",
   "id": "86b02692",
   "metadata": {},
   "source": [
    "# 1. One-hot encoding"
   ]
  },
  {
   "cell_type": "markdown",
   "id": "88d7b29f",
   "metadata": {},
   "source": [
    "Since all features are categorical, we will create a pipeline for one-hot encoding. In this notebook, we will use four features `month`, `diagnosis_broad`, `drug_type`, `pcngroup` to do a brief comparison of various models."
   ]
  },
  {
   "cell_type": "code",
   "execution_count": 16,
   "id": "b347e868",
   "metadata": {},
   "outputs": [],
   "source": [
    "features = ['month', 'diagnosis_broad', 'diagnosis_specific', 'drug_type', 'drug_name', 'bin', 'pcngroup']"
   ]
  },
  {
   "cell_type": "code",
   "execution_count": 17,
   "id": "6ca42747",
   "metadata": {},
   "outputs": [],
   "source": [
    "import sklearn.preprocessing\n",
    "from sklearn.pipeline import Pipeline\n",
    "from sklearn.preprocessing import OneHotEncoder\n",
    "from sklearn.compose import ColumnTransformer"
   ]
  },
  {
   "cell_type": "code",
   "execution_count": 18,
   "id": "7338914b",
   "metadata": {},
   "outputs": [],
   "source": [
    "onehot_pipeline = Pipeline([\n",
    "        (\"onehot\", sklearn.preprocessing.OneHotEncoder(handle_unknown = \"ignore\"))\n",
    "    ])\n",
    "\n",
    "preprocessing_pipeline = ColumnTransformer([\n",
    "        (\"preprocessor_column\", onehot_pipeline, features)\n",
    "    ])"
   ]
  },
  {
   "cell_type": "markdown",
   "id": "a723ba8b",
   "metadata": {},
   "source": [
    "# 2. Baseline"
   ]
  },
  {
   "cell_type": "code",
   "execution_count": 19,
   "id": "284a4809",
   "metadata": {},
   "outputs": [],
   "source": [
    "baseline = np.array([df_train.log_patient_pay.mean()] * len(df_test))"
   ]
  },
  {
   "cell_type": "code",
   "execution_count": 20,
   "id": "c022f94b",
   "metadata": {},
   "outputs": [],
   "source": [
    "baseline_metric = []\n",
    "\n",
    "for metric in metrics:\n",
    "    baseline_metric.append(metric(baseline, df_test.log_patient_pay))"
   ]
  },
  {
   "cell_type": "code",
   "execution_count": 21,
   "id": "e5f572b4",
   "metadata": {},
   "outputs": [
    {
     "data": {
      "text/plain": [
       "[0.6738558799121147,\n",
       " -3.4168552425516555e+30,\n",
       " 0.5894790288769524,\n",
       " 0.21166924812698193]"
      ]
     },
     "execution_count": 21,
     "metadata": {},
     "output_type": "execute_result"
    }
   ],
   "source": [
    "baseline_metric"
   ]
  },
  {
   "cell_type": "markdown",
   "id": "d7a2bc96",
   "metadata": {},
   "source": [
    "# 3. Simple Linear Regression"
   ]
  },
  {
   "cell_type": "code",
   "execution_count": 22,
   "id": "4f89fd2d",
   "metadata": {},
   "outputs": [],
   "source": [
    "from sklearn.linear_model import LinearRegression"
   ]
  },
  {
   "cell_type": "code",
   "execution_count": 23,
   "id": "06bf2bac",
   "metadata": {},
   "outputs": [],
   "source": [
    "slr_pipe = Pipeline([\n",
    "    (\"pre\", preprocessing_pipeline),\n",
    "    (\"slr\", LinearRegression())\n",
    "])"
   ]
  },
  {
   "cell_type": "code",
   "execution_count": 24,
   "id": "9c6adea5",
   "metadata": {},
   "outputs": [
    {
     "data": {
      "text/plain": [
       "Pipeline(steps=[('pre',\n",
       "                 ColumnTransformer(transformers=[('preprocessor_column',\n",
       "                                                  Pipeline(steps=[('onehot',\n",
       "                                                                   OneHotEncoder(handle_unknown='ignore'))]),\n",
       "                                                  ['month', 'diagnosis_broad',\n",
       "                                                   'diagnosis_specific',\n",
       "                                                   'drug_type', 'drug_name',\n",
       "                                                   'bin', 'pcngroup'])])),\n",
       "                ('slr', LinearRegression())])"
      ]
     },
     "execution_count": 24,
     "metadata": {},
     "output_type": "execute_result"
    }
   ],
   "source": [
    "slr_pipe.fit(X = df_train[features], \n",
    "             y = df_train.log_patient_pay\n",
    "            )"
   ]
  },
  {
   "cell_type": "code",
   "execution_count": 25,
   "id": "7ff054f4",
   "metadata": {},
   "outputs": [
    {
     "data": {
      "text/plain": [
       "array([3.96893906, 3.13269979, 2.54759119, ..., 3.64589241, 1.58224294,\n",
       "       2.36569112])"
      ]
     },
     "execution_count": 25,
     "metadata": {},
     "output_type": "execute_result"
    }
   ],
   "source": [
    "slr_pipe.predict(df_test[features])"
   ]
  },
  {
   "cell_type": "code",
   "execution_count": 26,
   "id": "351741ca",
   "metadata": {},
   "outputs": [],
   "source": [
    "slr_metric = []\n",
    "\n",
    "for metric in metrics:\n",
    "    slr_metric.append(metric(slr_pipe.predict(df_test[features]), df_test.log_patient_pay))"
   ]
  },
  {
   "cell_type": "markdown",
   "id": "57e436a1",
   "metadata": {},
   "source": [
    "# 4. Models with hyperparameters"
   ]
  },
  {
   "cell_type": "markdown",
   "id": "2ad189df",
   "metadata": {},
   "source": [
    "In the remaining of this notebook, we examine the models with hyperparameters, such as regularized linear regression, k-nearest neighborhood, etc. To do so, we will use GridSearchCV."
   ]
  },
  {
   "cell_type": "code",
   "execution_count": 27,
   "id": "d4458d93",
   "metadata": {},
   "outputs": [],
   "source": [
    "from sklearn.model_selection import GridSearchCV"
   ]
  },
  {
   "cell_type": "markdown",
   "id": "524fd665",
   "metadata": {},
   "source": [
    "## 4-1. Regularized Linear Regression"
   ]
  },
  {
   "cell_type": "code",
   "execution_count": 28,
   "id": "dbfc01ab",
   "metadata": {},
   "outputs": [],
   "source": [
    "from sklearn.linear_model import Lasso"
   ]
  },
  {
   "cell_type": "code",
   "execution_count": 29,
   "id": "cc191808",
   "metadata": {},
   "outputs": [],
   "source": [
    "lasso_pipe = Pipeline([\n",
    "    (\"pre\", preprocessing_pipeline),\n",
    "    (\"lasso\", Lasso())\n",
    "])"
   ]
  },
  {
   "cell_type": "code",
   "execution_count": 30,
   "id": "a2ef7094",
   "metadata": {},
   "outputs": [],
   "source": [
    "alphas = [0.001, 0.01, 0.1, 1, 10, 100, 1000]\n",
    "\n",
    "lasso_parameters = [\n",
    "    {\"lasso__alpha\": alphas}\n",
    "]\n"
   ]
  },
  {
   "cell_type": "code",
   "execution_count": 31,
   "id": "77178e22",
   "metadata": {},
   "outputs": [],
   "source": [
    "lasso_gridcv = GridSearchCV(\n",
    "        estimator = lasso_pipe,\n",
    "        param_grid = lasso_parameters,\n",
    "        scoring = \"neg_root_mean_squared_error\",\n",
    "        cv = 5)"
   ]
  },
  {
   "cell_type": "code",
   "execution_count": 32,
   "id": "80389fdc",
   "metadata": {},
   "outputs": [
    {
     "data": {
      "text/plain": [
       "GridSearchCV(cv=5,\n",
       "             estimator=Pipeline(steps=[('pre',\n",
       "                                        ColumnTransformer(transformers=[('preprocessor_column',\n",
       "                                                                         Pipeline(steps=[('onehot',\n",
       "                                                                                          OneHotEncoder(handle_unknown='ignore'))]),\n",
       "                                                                         ['month',\n",
       "                                                                          'diagnosis_broad',\n",
       "                                                                          'diagnosis_specific',\n",
       "                                                                          'drug_type',\n",
       "                                                                          'drug_name',\n",
       "                                                                          'bin',\n",
       "                                                                          'pcngroup'])])),\n",
       "                                       ('lasso', Lasso())]),\n",
       "             param_grid=[{'lasso__alpha': [0.001, 0.01, 0.1, 1, 10, 100,\n",
       "                                           1000]}],\n",
       "             scoring='neg_root_mean_squared_error')"
      ]
     },
     "execution_count": 32,
     "metadata": {},
     "output_type": "execute_result"
    }
   ],
   "source": [
    "lasso_gridcv.fit(\n",
    "    X = df_train[features],\n",
    "    y = df_train.log_patient_pay\n",
    ")"
   ]
  },
  {
   "cell_type": "code",
   "execution_count": 33,
   "id": "3e62c3b0",
   "metadata": {},
   "outputs": [
    {
     "data": {
      "text/plain": [
       "-0.3739610703334889"
      ]
     },
     "execution_count": 33,
     "metadata": {},
     "output_type": "execute_result"
    }
   ],
   "source": [
    "lasso_gridcv.best_score_"
   ]
  },
  {
   "cell_type": "code",
   "execution_count": 34,
   "id": "cf6b1585",
   "metadata": {},
   "outputs": [
    {
     "data": {
      "text/plain": [
       "{'lasso__alpha': 0.001}"
      ]
     },
     "execution_count": 34,
     "metadata": {},
     "output_type": "execute_result"
    }
   ],
   "source": [
    "lasso_gridcv.best_params_"
   ]
  },
  {
   "cell_type": "code",
   "execution_count": 35,
   "id": "4d7c1b16",
   "metadata": {},
   "outputs": [],
   "source": [
    "lasso_metric = []\n",
    "\n",
    "for metric in metrics:\n",
    "    lasso_metric.append(metric(lasso_gridcv.predict(df_test[features]), df_test.log_patient_pay))"
   ]
  },
  {
   "cell_type": "markdown",
   "id": "be913760",
   "metadata": {},
   "source": [
    "## 4-2. K-Nearest Neighbors"
   ]
  },
  {
   "cell_type": "code",
   "execution_count": 36,
   "id": "b46e4e90",
   "metadata": {},
   "outputs": [],
   "source": [
    "from sklearn.neighbors import KNeighborsRegressor"
   ]
  },
  {
   "cell_type": "code",
   "execution_count": 37,
   "id": "36ece27a",
   "metadata": {},
   "outputs": [],
   "source": [
    "knn_pipe = Pipeline([\n",
    "    (\"pre\", preprocessing_pipeline),\n",
    "    (\"knn\", KNeighborsRegressor())])"
   ]
  },
  {
   "cell_type": "code",
   "execution_count": 38,
   "id": "e413cfd6",
   "metadata": {},
   "outputs": [],
   "source": [
    "knn_parameters = [1, 5, 10, 15, 20, 25]\n",
    "\n",
    "knn_grid = [\n",
    "    {\"knn__n_neighbors\": knn_parameters,\n",
    "    \"knn__weights\": [\"uniform\", \"distance\"],\n",
    "    \"knn__metric\": [\"euclidean\", \"manhattan\"]}]"
   ]
  },
  {
   "cell_type": "code",
   "execution_count": 39,
   "id": "7d9909fe",
   "metadata": {},
   "outputs": [],
   "source": [
    "knn_gridcv = GridSearchCV(\n",
    "        estimator = knn_pipe,\n",
    "        param_grid = knn_grid,\n",
    "        scoring = \"neg_root_mean_squared_error\",\n",
    "        cv = 5)"
   ]
  },
  {
   "cell_type": "code",
   "execution_count": 40,
   "id": "1cf3d070",
   "metadata": {},
   "outputs": [
    {
     "data": {
      "text/plain": [
       "GridSearchCV(cv=5,\n",
       "             estimator=Pipeline(steps=[('pre',\n",
       "                                        ColumnTransformer(transformers=[('preprocessor_column',\n",
       "                                                                         Pipeline(steps=[('onehot',\n",
       "                                                                                          OneHotEncoder(handle_unknown='ignore'))]),\n",
       "                                                                         ['month',\n",
       "                                                                          'diagnosis_broad',\n",
       "                                                                          'diagnosis_specific',\n",
       "                                                                          'drug_type',\n",
       "                                                                          'drug_name',\n",
       "                                                                          'bin',\n",
       "                                                                          'pcngroup'])])),\n",
       "                                       ('knn', KNeighborsRegressor())]),\n",
       "             param_grid=[{'knn__metric': ['euclidean', 'manhattan'],\n",
       "                          'knn__n_neighbors': [1, 5, 10, 15, 20, 25],\n",
       "                          'knn__weights': ['uniform', 'distance']}],\n",
       "             scoring='neg_root_mean_squared_error')"
      ]
     },
     "execution_count": 40,
     "metadata": {},
     "output_type": "execute_result"
    }
   ],
   "source": [
    "knn_gridcv.fit(\n",
    "    X = df_train,\n",
    "    y = df_train.log_patient_pay\n",
    ")\n"
   ]
  },
  {
   "cell_type": "code",
   "execution_count": 41,
   "id": "9d603b83",
   "metadata": {},
   "outputs": [
    {
     "data": {
      "text/plain": [
       "-0.3583555319416919"
      ]
     },
     "execution_count": 41,
     "metadata": {},
     "output_type": "execute_result"
    }
   ],
   "source": [
    "knn_gridcv.best_score_"
   ]
  },
  {
   "cell_type": "code",
   "execution_count": 42,
   "id": "6c5c07df",
   "metadata": {},
   "outputs": [
    {
     "data": {
      "text/plain": [
       "{'knn__metric': 'manhattan',\n",
       " 'knn__n_neighbors': 10,\n",
       " 'knn__weights': 'distance'}"
      ]
     },
     "execution_count": 42,
     "metadata": {},
     "output_type": "execute_result"
    }
   ],
   "source": [
    "knn_gridcv.best_params_"
   ]
  },
  {
   "cell_type": "code",
   "execution_count": 43,
   "id": "18c1a5b4",
   "metadata": {},
   "outputs": [],
   "source": [
    "knn_metric = []\n",
    "\n",
    "for metric in metrics:\n",
    "    knn_metric.append(metric(knn_gridcv.predict(df_test[features]), df_test.log_patient_pay))"
   ]
  },
  {
   "cell_type": "markdown",
   "id": "aa4d160a",
   "metadata": {},
   "source": [
    "## 4-3. Support Vector Machine"
   ]
  },
  {
   "cell_type": "code",
   "execution_count": 44,
   "id": "9fb79776",
   "metadata": {},
   "outputs": [],
   "source": [
    "from sklearn.svm import SVR"
   ]
  },
  {
   "cell_type": "code",
   "execution_count": 45,
   "id": "01047bcd",
   "metadata": {},
   "outputs": [],
   "source": [
    "svm_pipe = Pipeline([\n",
    "    (\"pre\", preprocessing_pipeline),\n",
    "    (\"svm\", SVR())])"
   ]
  },
  {
   "cell_type": "code",
   "execution_count": 46,
   "id": "d056183a",
   "metadata": {},
   "outputs": [],
   "source": [
    "svm_parameters = [1, 5, 10, 15, 20, 25]\n",
    "\n",
    "svm_param_grid = [\n",
    "    {\"svm__kernel\": [\"linear\", \"rbf\"],\n",
    "    \"svm__C\": svm_parameters}\n",
    "]"
   ]
  },
  {
   "cell_type": "code",
   "execution_count": 47,
   "id": "1bcd58c0",
   "metadata": {},
   "outputs": [],
   "source": [
    "svm_gridcv = GridSearchCV(\n",
    "        estimator = svm_pipe,\n",
    "        param_grid = svm_param_grid,\n",
    "        scoring = \"neg_root_mean_squared_error\")"
   ]
  },
  {
   "cell_type": "code",
   "execution_count": 48,
   "id": "31b3f2f5",
   "metadata": {},
   "outputs": [
    {
     "data": {
      "text/plain": [
       "GridSearchCV(estimator=Pipeline(steps=[('pre',\n",
       "                                        ColumnTransformer(transformers=[('preprocessor_column',\n",
       "                                                                         Pipeline(steps=[('onehot',\n",
       "                                                                                          OneHotEncoder(handle_unknown='ignore'))]),\n",
       "                                                                         ['month',\n",
       "                                                                          'diagnosis_broad',\n",
       "                                                                          'diagnosis_specific',\n",
       "                                                                          'drug_type',\n",
       "                                                                          'drug_name',\n",
       "                                                                          'bin',\n",
       "                                                                          'pcngroup'])])),\n",
       "                                       ('svm', SVR())]),\n",
       "             param_grid=[{'svm__C': [1, 5, 10, 15, 20, 25],\n",
       "                          'svm__kernel': ['linear', 'rbf']}],\n",
       "             scoring='neg_root_mean_squared_error')"
      ]
     },
     "execution_count": 48,
     "metadata": {},
     "output_type": "execute_result"
    }
   ],
   "source": [
    "svm_gridcv.fit(\n",
    "X = df_train[features],\n",
    "y = df_train.log_patient_pay)"
   ]
  },
  {
   "cell_type": "code",
   "execution_count": 49,
   "id": "bc08d2d9",
   "metadata": {},
   "outputs": [
    {
     "data": {
      "text/plain": [
       "array([3.79651466, 3.44236381, 2.40811068, ..., 3.67253032, 1.94396285,\n",
       "       2.47703326])"
      ]
     },
     "execution_count": 49,
     "metadata": {},
     "output_type": "execute_result"
    }
   ],
   "source": [
    "svm_gridcv.predict(df_test[features])"
   ]
  },
  {
   "cell_type": "code",
   "execution_count": 50,
   "id": "7e731653",
   "metadata": {},
   "outputs": [],
   "source": [
    "svm_metric = []\n",
    "\n",
    "for metric in metrics:\n",
    "    svm_metric.append(metric(svm_gridcv.predict(df_test[features]), df_test.log_patient_pay))"
   ]
  },
  {
   "cell_type": "markdown",
   "id": "3972e5a7",
   "metadata": {},
   "source": [
    "## 4-4. Ensemble Learning"
   ]
  },
  {
   "cell_type": "markdown",
   "id": "fc72a1d3",
   "metadata": {},
   "source": [
    "In this section, we study performaces of ensemble type learning models: Raondom Forest and XGBoost."
   ]
  },
  {
   "cell_type": "markdown",
   "id": "50e2872d",
   "metadata": {},
   "source": [
    "### 4-4-1. Random Forest"
   ]
  },
  {
   "cell_type": "code",
   "execution_count": 51,
   "id": "c37a4d63",
   "metadata": {},
   "outputs": [],
   "source": [
    "from sklearn.ensemble import RandomForestRegressor"
   ]
  },
  {
   "cell_type": "code",
   "execution_count": 52,
   "id": "997118e5",
   "metadata": {},
   "outputs": [],
   "source": [
    "rf_pipe = Pipeline([\n",
    "    (\"pre\", preprocessing_pipeline),\n",
    "    (\"rf\", RandomForestRegressor())\n",
    "])"
   ]
  },
  {
   "cell_type": "code",
   "execution_count": 54,
   "id": "b2db7b10",
   "metadata": {},
   "outputs": [],
   "source": [
    "rf_leafs = [1, 5, 10, 15, 20, 25]\n",
    "\n",
    "rf_parameters = {\n",
    "    \"rf__min_samples_leaf\": rf_leafs\n",
    "}"
   ]
  },
  {
   "cell_type": "code",
   "execution_count": 55,
   "id": "f330fcc6",
   "metadata": {},
   "outputs": [],
   "source": [
    "rf_gridcv= GridSearchCV(\n",
    "        estimator = rf_pipe,\n",
    "        param_grid = rf_parameters,\n",
    "        scoring = \"neg_root_mean_squared_error\",\n",
    "        cv = 5)"
   ]
  },
  {
   "cell_type": "code",
   "execution_count": 56,
   "id": "8a21a5d9",
   "metadata": {},
   "outputs": [
    {
     "data": {
      "text/plain": [
       "GridSearchCV(cv=5,\n",
       "             estimator=Pipeline(steps=[('pre',\n",
       "                                        ColumnTransformer(transformers=[('preprocessor_column',\n",
       "                                                                         Pipeline(steps=[('onehot',\n",
       "                                                                                          OneHotEncoder(handle_unknown='ignore'))]),\n",
       "                                                                         ['month',\n",
       "                                                                          'diagnosis_broad',\n",
       "                                                                          'diagnosis_specific',\n",
       "                                                                          'drug_type',\n",
       "                                                                          'drug_name',\n",
       "                                                                          'bin',\n",
       "                                                                          'pcngroup'])])),\n",
       "                                       ('rf', RandomForestRegressor())]),\n",
       "             param_grid={'rf__min_samples_leaf': [1, 5, 10, 15, 20, 25]},\n",
       "             scoring='neg_root_mean_squared_error')"
      ]
     },
     "execution_count": 56,
     "metadata": {},
     "output_type": "execute_result"
    }
   ],
   "source": [
    "rf_gridcv.fit(\n",
    "    X = df_train[features],\n",
    "    y = df_train.log_patient_pay)"
   ]
  },
  {
   "cell_type": "code",
   "execution_count": 57,
   "id": "97e92e9e",
   "metadata": {},
   "outputs": [],
   "source": [
    "rf_metric = []\n",
    "\n",
    "for metric in metrics:\n",
    "    rf_metric.append(metric(rf_gridcv.predict(df_test[features]), df_test.log_patient_pay))"
   ]
  },
  {
   "cell_type": "markdown",
   "id": "793bec98",
   "metadata": {},
   "source": [
    "### 4-4-2. XGBoost"
   ]
  },
  {
   "cell_type": "code",
   "execution_count": 58,
   "id": "cad35b5a",
   "metadata": {},
   "outputs": [],
   "source": [
    "import xgboost"
   ]
  },
  {
   "cell_type": "code",
   "execution_count": 59,
   "id": "b9081df4",
   "metadata": {},
   "outputs": [],
   "source": [
    "xgb_pipe = Pipeline([\n",
    "    (\"pre\", preprocessing_pipeline),\n",
    "    (\"xgb\", xgboost.XGBRegressor())\n",
    "])"
   ]
  },
  {
   "cell_type": "code",
   "execution_count": 60,
   "id": "8ee03577",
   "metadata": {},
   "outputs": [],
   "source": [
    "learning_rates = [0.1, 0.5, 1]\n",
    "n_estimators = [10, 100, 500]\n",
    "xgb_depths = [1, 5, 10, 15, 20]\n",
    "\n",
    "\n",
    "xgb_parameters = [\n",
    "    {\"xgb__learning_rate\": learning_rates,\n",
    "    \"xgb__n_estimators\": n_estimators,\n",
    "    \"xgb__max_depth\": xgb_depths}\n",
    "]\n"
   ]
  },
  {
   "cell_type": "code",
   "execution_count": 61,
   "id": "756195cd",
   "metadata": {},
   "outputs": [],
   "source": [
    "xgb_gridcv = GridSearchCV(\n",
    "    estimator = xgb_pipe,\n",
    "    param_grid = xgb_parameters,\n",
    "    scoring = \"neg_root_mean_squared_error\",\n",
    "    cv = 5)"
   ]
  },
  {
   "cell_type": "code",
   "execution_count": 62,
   "id": "d1d13d91",
   "metadata": {},
   "outputs": [
    {
     "data": {
      "text/plain": [
       "GridSearchCV(cv=5,\n",
       "             estimator=Pipeline(steps=[('pre',\n",
       "                                        ColumnTransformer(transformers=[('preprocessor_column',\n",
       "                                                                         Pipeline(steps=[('onehot',\n",
       "                                                                                          OneHotEncoder(handle_unknown='ignore'))]),\n",
       "                                                                         ['month',\n",
       "                                                                          'diagnosis_broad',\n",
       "                                                                          'diagnosis_specific',\n",
       "                                                                          'drug_type',\n",
       "                                                                          'drug_name',\n",
       "                                                                          'bin',\n",
       "                                                                          'pcngroup'])])),\n",
       "                                       ('xgb',\n",
       "                                        XGBRegressor(base_score=None,\n",
       "                                                     booster=None,\n",
       "                                                     callbacks=None,\n",
       "                                                     colsample_bylevel=...\n",
       "                                                     max_delta_step=None,\n",
       "                                                     max_depth=None,\n",
       "                                                     max_leaves=None,\n",
       "                                                     min_child_weight=None,\n",
       "                                                     missing=nan,\n",
       "                                                     monotone_constraints=None,\n",
       "                                                     n_estimators=100,\n",
       "                                                     n_jobs=None,\n",
       "                                                     num_parallel_tree=None,\n",
       "                                                     predictor=None,\n",
       "                                                     random_state=None, ...))]),\n",
       "             param_grid=[{'xgb__learning_rate': [0.1, 0.5, 1],\n",
       "                          'xgb__max_depth': [1, 5, 10, 15, 20],\n",
       "                          'xgb__n_estimators': [10, 100, 500]}],\n",
       "             scoring='neg_root_mean_squared_error')"
      ]
     },
     "execution_count": 62,
     "metadata": {},
     "output_type": "execute_result"
    }
   ],
   "source": [
    "xgb_gridcv.fit(\n",
    "    X = df_train[features],\n",
    "    y = df_train.log_patient_pay)"
   ]
  },
  {
   "cell_type": "code",
   "execution_count": 63,
   "id": "ea9f484d",
   "metadata": {},
   "outputs": [],
   "source": [
    "xgb_metric = []\n",
    "\n",
    "for metric in metrics:\n",
    "    xgb_metric.append(metric(xgb_gridcv.predict(df_test[features]), df_test.log_patient_pay))"
   ]
  },
  {
   "cell_type": "markdown",
   "id": "d27be28b",
   "metadata": {},
   "source": [
    "# 5. Scores"
   ]
  },
  {
   "cell_type": "code",
   "execution_count": 64,
   "id": "928a64c7",
   "metadata": {},
   "outputs": [],
   "source": [
    "scores = pd.DataFrame({\n",
    "    \"xgb\" : xgb_metric,\n",
    "    \"rf\" : rf_metric,\n",
    "    \"svm\" : svm_metric,\n",
    "    \"lasso\" : lasso_metric,\n",
    "    \"knn\" : knn_metric,\n",
    "    \"simple LR\" : slr_metric,\n",
    "    \"baseline\" : baseline_metric,\n",
    "    \n",
    "    \n",
    "    \n",
    "    \n",
    "}, index = ['mse', 'r2', 'mae', 'mape'])"
   ]
  },
  {
   "cell_type": "code",
   "execution_count": 65,
   "id": "de21522e",
   "metadata": {},
   "outputs": [],
   "source": [
    "scores = scores.transpose()"
   ]
  },
  {
   "cell_type": "code",
   "execution_count": 70,
   "id": "78498984",
   "metadata": {},
   "outputs": [
    {
     "data": {
      "text/plain": [
       "<AxesSubplot:ylabel='mse'>"
      ]
     },
     "execution_count": 70,
     "metadata": {},
     "output_type": "execute_result"
    },
    {
     "data": {
      "image/png": "[encoded data removed]",
      "text/plain": [
       "<Figure size 432x288 with 1 Axes>"
      ]
     },
     "metadata": {
      "needs_background": "light"
     },
     "output_type": "display_data"
    }
   ],
   "source": [
    "sns.barplot(\n",
    "data = scores,\n",
    "y = 'mse',\n",
    "x = scores.index)"
   ]
  },
  {
   "cell_type": "code",
   "execution_count": 72,
   "id": "5f10944b",
   "metadata": {},
   "outputs": [
    {
     "data": {
      "text/plain": [
       "<AxesSubplot:ylabel='r2'>"
      ]
     },
     "execution_count": 72,
     "metadata": {},
     "output_type": "execute_result"
    },
    {
     "data": {
      "image/png": "[encoded data removed]",
      "text/plain": [
       "<Figure size 432x288 with 1 Axes>"
      ]
     },
     "metadata": {
      "needs_background": "light"
     },
     "output_type": "display_data"
    }
   ],
   "source": [
    "sns.scatterplot(\n",
    "data = scores,\n",
    "y = 'r2',\n",
    "x = scores.index)"
   ]
  },
  {
   "cell_type": "code",
   "execution_count": 73,
   "id": "bf4ba387",
   "metadata": {},
   "outputs": [
    {
     "data": {
      "text/plain": [
       "<AxesSubplot:ylabel='mae'>"
      ]
     },
     "execution_count": 73,
     "metadata": {},
     "output_type": "execute_result"
    },
    {
     "data": {
      "image/png": "[encoded data removed]",
      "text/plain": [
       "<Figure size 432x288 with 1 Axes>"
      ]
     },
     "metadata": {
      "needs_background": "light"
     },
     "output_type": "display_data"
    }
   ],
   "source": [
    "sns.barplot(\n",
    "data = scores,\n",
    "y = 'mae',\n",
    "x = scores.index)"
   ]
  },
  {
   "cell_type": "code",
   "execution_count": 74,
   "id": "9cc7d739",
   "metadata": {},
   "outputs": [
    {
     "data": {
      "text/plain": [
       "<AxesSubplot:ylabel='mape'>"
      ]
     },
     "execution_count": 74,
     "metadata": {},
     "output_type": "execute_result"
    },
    {
     "data": {
      "image/png": "[encoded data removed]",
      "text/plain": [
       "<Figure size 432x288 with 1 Axes>"
      ]
     },
     "metadata": {
      "needs_background": "light"
     },
     "output_type": "display_data"
    }
   ],
   "source": [
    "sns.barplot(\n",
    "data = scores,\n",
    "y = 'mape',\n",
    "x = scores.index)"
   ]
  },
  {
   "cell_type": "markdown",
   "id": "d98c2af1",
   "metadata": {},
   "source": [
    "XGBoost perfoms the best."
   ]
  }
 ],
 "metadata": {
  "kernelspec": {
   "display_name": "Python 3 (ipykernel)",
   "language": "python",
   "name": "python3"
  },
  "language_info": {
   "codemirror_mode": {
    "name": "ipython",
    "version": 3
   },
   "file_extension": ".py",
   "mimetype": "text/x-python",
   "name": "python",
   "nbconvert_exporter": "python",
   "pygments_lexer": "ipython3",
   "version": "3.9.12"
  }
 },
 "nbformat": 4,
 "nbformat_minor": 5
}
