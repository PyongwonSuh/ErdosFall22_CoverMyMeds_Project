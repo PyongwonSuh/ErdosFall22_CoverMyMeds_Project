{
 "cells": [
  {
   "cell_type": "code",
   "execution_count": 1,
   "id": "e811d5a2",
   "metadata": {},
   "outputs": [],
   "source": [
    "import numpy as np\n",
    "import pandas as pd\n",
    "from sklearn.model_selection import train_test_split\n",
    "import matplotlib.pyplot as plt\n",
    "import seaborn as sns\n",
    "from seaborn import pairplot, set_style\n",
    "import seaborn as sns"
   ]
  },
  {
   "cell_type": "code",
   "execution_count": 2,
   "id": "2274c5a1",
   "metadata": {},
   "outputs": [],
   "source": [
    "df = pd.read_csv(\"pharmacy_tx.csv\")"
   ]
  },
  {
   "cell_type": "code",
   "execution_count": 3,
   "id": "517cf91c",
   "metadata": {},
   "outputs": [
    {
     "data": {
      "text/html": [
       "<div>\n",
       "<style scoped>\n",
       "    .dataframe tbody tr th:only-of-type {\n",
       "        vertical-align: middle;\n",
       "    }\n",
       "\n",
       "    .dataframe tbody tr th {\n",
       "        vertical-align: top;\n",
       "    }\n",
       "\n",
       "    .dataframe thead th {\n",
       "        text-align: right;\n",
       "    }\n",
       "</style>\n",
       "<table border=\"1\" class=\"dataframe\">\n",
       "  <thead>\n",
       "    <tr style=\"text-align: right;\">\n",
       "      <th></th>\n",
       "      <th>tx_date</th>\n",
       "      <th>pharmacy</th>\n",
       "      <th>diagnosis</th>\n",
       "      <th>drug</th>\n",
       "      <th>bin</th>\n",
       "      <th>pcn</th>\n",
       "      <th>group</th>\n",
       "      <th>rejected</th>\n",
       "      <th>patient_pay</th>\n",
       "    </tr>\n",
       "  </thead>\n",
       "  <tbody>\n",
       "    <tr>\n",
       "      <th>0</th>\n",
       "      <td>2022-01-02</td>\n",
       "      <td>Pharmacy #6</td>\n",
       "      <td>G99.93</td>\n",
       "      <td>branded tanoclolol</td>\n",
       "      <td>725700</td>\n",
       "      <td>1UQC</td>\n",
       "      <td>NaN</td>\n",
       "      <td>False</td>\n",
       "      <td>13.39</td>\n",
       "    </tr>\n",
       "    <tr>\n",
       "      <th>1</th>\n",
       "      <td>2022-01-02</td>\n",
       "      <td>Pharmacy #42</td>\n",
       "      <td>U60.52</td>\n",
       "      <td>branded oxasoted</td>\n",
       "      <td>664344</td>\n",
       "      <td>NaN</td>\n",
       "      <td>52H8KH0F83K</td>\n",
       "      <td>False</td>\n",
       "      <td>7.02</td>\n",
       "    </tr>\n",
       "    <tr>\n",
       "      <th>2</th>\n",
       "      <td>2022-01-02</td>\n",
       "      <td>Pharmacy #37</td>\n",
       "      <td>Q85.91</td>\n",
       "      <td>branded cupitelol</td>\n",
       "      <td>725700</td>\n",
       "      <td>1UQC</td>\n",
       "      <td>NaN</td>\n",
       "      <td>False</td>\n",
       "      <td>13.39</td>\n",
       "    </tr>\n",
       "    <tr>\n",
       "      <th>3</th>\n",
       "      <td>2022-01-02</td>\n",
       "      <td>Pharmacy #30</td>\n",
       "      <td>U60.52</td>\n",
       "      <td>generic oxasoted</td>\n",
       "      <td>571569</td>\n",
       "      <td>KB38N</td>\n",
       "      <td>6BYJBW</td>\n",
       "      <td>False</td>\n",
       "      <td>10.84</td>\n",
       "    </tr>\n",
       "    <tr>\n",
       "      <th>4</th>\n",
       "      <td>2022-01-02</td>\n",
       "      <td>Pharmacy #18</td>\n",
       "      <td>N55.01</td>\n",
       "      <td>branded mamate</td>\n",
       "      <td>664344</td>\n",
       "      <td>NaN</td>\n",
       "      <td>ZX2QUWR</td>\n",
       "      <td>False</td>\n",
       "      <td>47.00</td>\n",
       "    </tr>\n",
       "  </tbody>\n",
       "</table>\n",
       "</div>"
      ],
      "text/plain": [
       "      tx_date      pharmacy diagnosis                drug     bin    pcn  \\\n",
       "0  2022-01-02   Pharmacy #6    G99.93  branded tanoclolol  725700   1UQC   \n",
       "1  2022-01-02  Pharmacy #42    U60.52    branded oxasoted  664344    NaN   \n",
       "2  2022-01-02  Pharmacy #37    Q85.91   branded cupitelol  725700   1UQC   \n",
       "3  2022-01-02  Pharmacy #30    U60.52    generic oxasoted  571569  KB38N   \n",
       "4  2022-01-02  Pharmacy #18    N55.01      branded mamate  664344    NaN   \n",
       "\n",
       "         group  rejected  patient_pay  \n",
       "0          NaN     False        13.39  \n",
       "1  52H8KH0F83K     False         7.02  \n",
       "2          NaN     False        13.39  \n",
       "3       6BYJBW     False        10.84  \n",
       "4      ZX2QUWR     False        47.00  "
      ]
     },
     "execution_count": 3,
     "metadata": {},
     "output_type": "execute_result"
    }
   ],
   "source": [
    "df.head()"
   ]
  },
  {
   "cell_type": "markdown",
   "id": "c17fd339",
   "metadata": {},
   "source": [
    "## 1. Rejected claims: payment 0"
   ]
  },
  {
   "cell_type": "markdown",
   "id": "820e30a6",
   "metadata": {},
   "source": [
    "The box plot below suggest that patient_pay is 0 if the claim is rejected."
   ]
  },
  {
   "cell_type": "code",
   "execution_count": 4,
   "id": "8181ce42",
   "metadata": {},
   "outputs": [
    {
     "data": {
      "text/plain": [
       "<AxesSubplot:xlabel='rejected', ylabel='patient_pay'>"
      ]
     },
     "execution_count": 4,
     "metadata": {},
     "output_type": "execute_result"
    },
    {
     "data": {
      "image/png": "[encoded data removed]",
      "text/plain": [
       "<Figure size 432x288 with 1 Axes>"
      ]
     },
     "metadata": {
      "needs_background": "light"
     },
     "output_type": "display_data"
    }
   ],
   "source": [
    "sns.boxplot(x = 'rejected', y = 'patient_pay', data = df)"
   ]
  },
  {
   "cell_type": "markdown",
   "id": "f0117ac5",
   "metadata": {},
   "source": [
    "Indeed, we can check that is true."
   ]
  },
  {
   "cell_type": "code",
   "execution_count": 5,
   "id": "f9a7ddb3",
   "metadata": {},
   "outputs": [
    {
     "name": "stdout",
     "output_type": "stream",
     "text": [
      "The minimum value of rejected payment is: 0\n",
      "The maximum value of rejected payment is: 0\n"
     ]
    }
   ],
   "source": [
    "print(\"The minimum value of rejected payment is: %d\" %df.loc[df.rejected == True, 'patient_pay'].min())\n",
    "print(\"The maximum value of rejected payment is: %d\" %df.loc[df.rejected == True, 'patient_pay'].max())"
   ]
  },
  {
   "cell_type": "markdown",
   "id": "654dce62",
   "metadata": {},
   "source": [
    "Hence for a copayment prediction model, we need to restrict on accepted(not rejected) claims."
   ]
  },
  {
   "cell_type": "markdown",
   "id": "92bcbbc8",
   "metadata": {},
   "source": [
    "## 2. Distribution of copayment"
   ]
  },
  {
   "cell_type": "code",
   "execution_count": 6,
   "id": "aaec9b99",
   "metadata": {},
   "outputs": [
    {
     "data": {
      "text/plain": [
       "Text(0, 0.5, 'Density')"
      ]
     },
     "execution_count": 6,
     "metadata": {},
     "output_type": "execute_result"
    },
    {
     "data": {
      "image/png": "[encoded data removed]",
      "text/plain": [
       "<Figure size 432x288 with 1 Axes>"
      ]
     },
     "metadata": {
      "needs_background": "light"
     },
     "output_type": "display_data"
    }
   ],
   "source": [
    "sns.kdeplot(\n",
    "    x = \"patient_pay\",\n",
    "    data = df.loc[df['rejected'] == False]\n",
    ")\n",
    "\n",
    "plt.xlabel(\"Patient Pay\")\n",
    "plt.ylabel(\"Density\")"
   ]
  },
  {
   "cell_type": "code",
   "execution_count": 7,
   "id": "ad3c4add",
   "metadata": {},
   "outputs": [],
   "source": [
    "df_accepted = df.loc[df.rejected == False]"
   ]
  },
  {
   "cell_type": "code",
   "execution_count": 14,
   "id": "a0a8599d",
   "metadata": {},
   "outputs": [],
   "source": [
    "df_accepted = df_accepted.assign(log_patient_pay = np.log(df_accepted['patient_pay']))"
   ]
  },
  {
   "cell_type": "code",
   "execution_count": 15,
   "id": "12f9ce7e",
   "metadata": {},
   "outputs": [
    {
     "data": {
      "text/plain": [
       "Text(0, 0.5, 'Density')"
      ]
     },
     "execution_count": 15,
     "metadata": {},
     "output_type": "execute_result"
    },
    {
     "data": {
      "image/png": "[encoded data removed]",
      "text/plain": [
       "<Figure size 432x288 with 1 Axes>"
      ]
     },
     "metadata": {
      "needs_background": "light"
     },
     "output_type": "display_data"
    }
   ],
   "source": [
    "sns.kdeplot(\n",
    "    x = \"log_patient_pay\",\n",
    "    data = df_accepted\n",
    ")\n",
    "\n",
    "plt.xlabel(\"log_patient_pay\")\n",
    "plt.ylabel(\"Density\")"
   ]
  },
  {
   "cell_type": "markdown",
   "id": "bcc746a6",
   "metadata": {},
   "source": [
    "We can observe that most patient paid less than 100 dollars."
   ]
  },
  {
   "cell_type": "code",
   "execution_count": 16,
   "id": "8bba4cbc",
   "metadata": {},
   "outputs": [],
   "source": [
    "df_accepted = df.loc[df['rejected'] == False]"
   ]
  },
  {
   "cell_type": "code",
   "execution_count": 17,
   "id": "292e3cc2",
   "metadata": {},
   "outputs": [
    {
     "data": {
      "text/plain": [
       "95.48198041952108"
      ]
     },
     "execution_count": 17,
     "metadata": {},
     "output_type": "execute_result"
    }
   ],
   "source": [
    "len(df_accepted.loc[df['patient_pay'] <= 100]) / len(df_accepted) * 100"
   ]
  },
  {
   "cell_type": "markdown",
   "id": "b95ecc72",
   "metadata": {},
   "source": [
    "Copayments less than 100 dollars account approximately 95.5% of the whole accepted claims"
   ]
  },
  {
   "cell_type": "code",
   "execution_count": null,
   "id": "86429f73",
   "metadata": {},
   "outputs": [],
   "source": [
    "df_accepted.loc[df_accepted['patient_pay'] > 100]"
   ]
  },
  {
   "cell_type": "code",
   "execution_count": null,
   "id": "21d97fc6",
   "metadata": {},
   "outputs": [],
   "source": [
    "df_accepted.diagnosis.value_counts()"
   ]
  },
  {
   "cell_type": "code",
   "execution_count": null,
   "id": "d9d14360",
   "metadata": {},
   "outputs": [],
   "source": [
    "df_accepted.loc[df_accepted['patient_pay'] > 100].diagnosis.value_counts()"
   ]
  },
  {
   "cell_type": "code",
   "execution_count": 29,
   "id": "76b188af",
   "metadata": {},
   "outputs": [
    {
     "data": {
      "text/plain": [
       "generic prazinib        865905\n",
       "branded prazinib        845852\n",
       "branded mule            543372\n",
       "branded hidizuzunib     484868\n",
       "generic rulfalol        360884\n",
       "                         ...  \n",
       "branded sizubesin         8130\n",
       "branded lehydrome         2561\n",
       "generic gohevitravir      2303\n",
       "branded gohevitravir      1811\n",
       "branded nenizevir         1112\n",
       "Name: drug, Length: 114, dtype: int64"
      ]
     },
     "execution_count": 29,
     "metadata": {},
     "output_type": "execute_result"
    }
   ],
   "source": [
    "df.drug.value_counts()"
   ]
  },
  {
   "cell_type": "code",
   "execution_count": 51,
   "id": "43bc1dc4",
   "metadata": {},
   "outputs": [
    {
     "data": {
      "text/plain": [
       "Z66.42    154383\n",
       "Z20.23     54363\n",
       "G51.87     40461\n",
       "Q72.66     33868\n",
       "M06.85     24568\n",
       "           ...  \n",
       "H11.36         7\n",
       "P29.44         7\n",
       "N33.46         7\n",
       "W00.33         6\n",
       "H26.61         1\n",
       "Name: diagnosis, Length: 77, dtype: int64"
      ]
     },
     "execution_count": 51,
     "metadata": {},
     "output_type": "execute_result"
    }
   ],
   "source": [
    "df.loc[df.patient_pay > 100].diagnosis.value_counts()"
   ]
  },
  {
   "cell_type": "code",
   "execution_count": 56,
   "id": "93fa9334",
   "metadata": {},
   "outputs": [
    {
     "data": {
      "text/plain": [
       "8"
      ]
     },
     "execution_count": 56,
     "metadata": {},
     "output_type": "execute_result"
    }
   ],
   "source": [
    "df.loc[df.patient_pay > 400].diagnosis.nunique()"
   ]
  },
  {
   "cell_type": "code",
   "execution_count": 54,
   "id": "39a965e7",
   "metadata": {},
   "outputs": [
    {
     "data": {
      "text/plain": [
       "133"
      ]
     },
     "execution_count": 54,
     "metadata": {},
     "output_type": "execute_result"
    }
   ],
   "source": [
    "df.diagnosis.nunique()"
   ]
  },
  {
   "cell_type": "code",
   "execution_count": 30,
   "id": "0bad6b7b",
   "metadata": {},
   "outputs": [
    {
     "data": {
      "text/plain": [
       "branded diadaric          95549\n",
       "branded nusudaric         86224\n",
       "branded choxestamenium    61140\n",
       "branded tugesutin         58554\n",
       "branded nephelilin        41373\n",
       "branded vivafastat        31551\n",
       "branded flacelfatastat    29433\n",
       "branded fazipilin         24593\n",
       "branded notin             24344\n",
       "branded monemodiase       20768\n",
       "branded prefluflomycin    17011\n",
       "branded debome            13275\n",
       "branded genetramycicin    11391\n",
       "branded devacin           10016\n",
       "branded gosate             9788\n",
       "branded hidizuzunib        8996\n",
       "branded plazamiglutic      7988\n",
       "branded masonic            7941\n",
       "branded pranic             7698\n",
       "branded pheromycin         6598\n",
       "branded cuxirin            4114\n",
       "branded todiadianic         739\n",
       "branded gentipapavir        266\n",
       "branded nenizevir            13\n",
       "Name: drug, dtype: int64"
      ]
     },
     "execution_count": 30,
     "metadata": {},
     "output_type": "execute_result"
    }
   ],
   "source": [
    "df.loc[df.patient_pay > 100].drug.value_counts()"
   ]
  },
  {
   "cell_type": "code",
   "execution_count": 31,
   "id": "e120bb02",
   "metadata": {},
   "outputs": [
    {
     "data": {
      "text/plain": [
       "branded tugesutin         28800\n",
       "branded flacelfatastat    25684\n",
       "branded monemodiase       20768\n",
       "branded prefluflomycin    14614\n",
       "branded masonic            6611\n",
       "branded pheromycin         6598\n",
       "branded pranic             5694\n",
       "branded diadaric           1299\n",
       "branded vivafastat          543\n",
       "branded genetramycicin      230\n",
       "Name: drug, dtype: int64"
      ]
     },
     "execution_count": 31,
     "metadata": {},
     "output_type": "execute_result"
    }
   ],
   "source": [
    "df.loc[df.patient_pay > 200].drug.value_counts()"
   ]
  },
  {
   "cell_type": "code",
   "execution_count": 32,
   "id": "b95ffa77",
   "metadata": {},
   "outputs": [
    {
     "data": {
      "text/plain": [
       "branded monemodiase    10084\n",
       "Name: drug, dtype: int64"
      ]
     },
     "execution_count": 32,
     "metadata": {},
     "output_type": "execute_result"
    }
   ],
   "source": [
    "df.loc[df.patient_pay > 500].drug.value_counts()"
   ]
  },
  {
   "cell_type": "code",
   "execution_count": 36,
   "id": "c25e6dcb",
   "metadata": {},
   "outputs": [
    {
     "data": {
      "text/plain": [
       "False    24446\n",
       "True     11498\n",
       "Name: rejected, dtype: int64"
      ]
     },
     "execution_count": 36,
     "metadata": {},
     "output_type": "execute_result"
    }
   ],
   "source": [
    "df.loc[df.drug == 'branded monemodiase'].rejected.value_counts()"
   ]
  },
  {
   "cell_type": "markdown",
   "id": "4e641db7",
   "metadata": {},
   "source": [
    "## 2. What are 'bin', 'pcn', and 'group'"
   ]
  },
  {
   "cell_type": "markdown",
   "id": "ce986aeb",
   "metadata": {},
   "source": [
    "According to the project description, \n",
    "\n",
    "- bin: The broadest identifier of a patient’s insurance plan (banking identification number)\n",
    "- pcn: An identifier that more narrowly specifies a plan underneath the broader “bin”\n",
    "- group: Another identifier that more narrowly specifies a plan underneath the broader “bin”\n",
    "\n",
    "However, we can see that there are 1-1 correspondence between 'pcn' and 'group'"
   ]
  },
  {
   "cell_type": "code",
   "execution_count": 26,
   "id": "399dd3fd",
   "metadata": {},
   "outputs": [
    {
     "data": {
      "text/plain": [
       "664344    3855462\n",
       "322463    2542376\n",
       "725700    2100642\n",
       "691847    1323776\n",
       "757349     959441\n",
       "96934      870740\n",
       "571569     774925\n",
       "539437     516933\n",
       "956971     272906\n",
       "160389     261912\n",
       "718350     256611\n",
       "756120     174520\n",
       "Name: bin, dtype: int64"
      ]
     },
     "execution_count": 26,
     "metadata": {},
     "output_type": "execute_result"
    }
   ],
   "source": [
    "df.bin.value_counts()"
   ]
  },
  {
   "cell_type": "code",
   "execution_count": 19,
   "id": "3dcafa41",
   "metadata": {},
   "outputs": [
    {
     "data": {
      "text/plain": [
       "48"
      ]
     },
     "execution_count": 19,
     "metadata": {},
     "output_type": "execute_result"
    }
   ],
   "source": [
    "df.pcn.value_counts()\n",
    "df.pcn.nunique()"
   ]
  },
  {
   "cell_type": "code",
   "execution_count": 20,
   "id": "e71df828",
   "metadata": {},
   "outputs": [
    {
     "data": {
      "text/plain": [
       "48"
      ]
     },
     "execution_count": 20,
     "metadata": {},
     "output_type": "execute_result"
    }
   ],
   "source": [
    "df.group.value_counts()\n",
    "df.group.nunique()"
   ]
  },
  {
   "cell_type": "markdown",
   "id": "e5acaa78",
   "metadata": {},
   "source": [
    "We can observe that observations with both `pcn` and `group` are null, their `bin` are all 571569."
   ]
  },
  {
   "cell_type": "code",
   "execution_count": 30,
   "id": "1218b437",
   "metadata": {},
   "outputs": [
    {
     "data": {
      "text/plain": [
       "571569    38080\n",
       "Name: bin, dtype: int64"
      ]
     },
     "execution_count": 30,
     "metadata": {},
     "output_type": "execute_result"
    }
   ],
   "source": [
    "df[df['pcn'].isna() & df['group'].isna()].bin.value_counts()"
   ]
  },
  {
   "cell_type": "markdown",
   "id": "7672c2a8",
   "metadata": {},
   "source": [
    "## 3. Patient payments and time"
   ]
  },
  {
   "cell_type": "markdown",
   "id": "3f65bf20",
   "metadata": {},
   "source": [
    "Patient payments tend to be higher in the early of the year, say in January. For example, for 'generic prazinib', the most common drug in the data, patients paid more at the beginning of the year. This is likely because of the renewal of the deductible."
   ]
  },
  {
   "cell_type": "code",
   "execution_count": 47,
   "id": "a2e5dba6",
   "metadata": {},
   "outputs": [
    {
     "name": "stderr",
     "output_type": "stream",
     "text": [
      "C:\\Users\\riene\\AppData\\Local\\Temp\\ipykernel_15116\\1009464062.py:2: UserWarning: Boolean Series key will be reindexed to match DataFrame index.\n",
      "  df_accepted[df.drug == 'generic prazinib']['patient_pay'].rolling(1000).mean().plot(xlabel=\"tx_date\", ylabel=\"patient_pay\")\n"
     ]
    },
    {
     "data": {
      "image/png": "[encoded data removed]",
      "text/plain": [
       "<Figure size 720x288 with 1 Axes>"
      ]
     },
     "metadata": {
      "needs_background": "light"
     },
     "output_type": "display_data"
    }
   ],
   "source": [
    "fig, ax = plt.subplots(figsize=(10, 4))\n",
    "df_accepted[df.drug == 'generic prazinib']['patient_pay'].rolling(1000).mean().plot(xlabel=\"tx_date\", ylabel=\"patient_pay\")\n",
    "\n",
    "plt.title('generic prazinib')\n",
    "plt.show()"
   ]
  },
  {
   "cell_type": "markdown",
   "id": "59471e78",
   "metadata": {},
   "source": [
    "# 4. Drug type: branded/generic"
   ]
  },
  {
   "cell_type": "markdown",
   "id": "9449fa6d",
   "metadata": {},
   "source": [
    "We can observe that branded drugs are likely to be higher patient payments and rejection rates."
   ]
  },
  {
   "cell_type": "code",
   "execution_count": 48,
   "id": "37d75719",
   "metadata": {},
   "outputs": [],
   "source": [
    "df[[\"drug_type\",\"drug_name\"]] =df['drug'].str.split(\" \",expand=True)"
   ]
  },
  {
   "cell_type": "code",
   "execution_count": 50,
   "id": "1670557d",
   "metadata": {},
   "outputs": [
    {
     "data": {
      "text/plain": [
       "<AxesSubplot:xlabel='drug_type', ylabel='count'>"
      ]
     },
     "execution_count": 50,
     "metadata": {},
     "output_type": "execute_result"
    },
    {
     "data": {
      "image/png": "[encoded data removed]",
      "text/plain": [
       "<Figure size 432x288 with 1 Axes>"
      ]
     },
     "metadata": {
      "needs_background": "light"
     },
     "output_type": "display_data"
    }
   ],
   "source": [
    "sns.countplot(\n",
    "    x = \"drug_type\",\n",
    "    hue = \"rejected\",\n",
    "    data = df\n",
    ")"
   ]
  }
 ],
 "metadata": {
  "kernelspec": {
   "display_name": "Python 3 (ipykernel)",
   "language": "python",
   "name": "python3"
  },
  "language_info": {
   "codemirror_mode": {
    "name": "ipython",
    "version": 3
   },
   "file_extension": ".py",
   "mimetype": "text/x-python",
   "name": "python",
   "nbconvert_exporter": "python",
   "pygments_lexer": "ipython3",
   "version": "3.9.12"
  }
 },
 "nbformat": 4,
 "nbformat_minor": 5
}
